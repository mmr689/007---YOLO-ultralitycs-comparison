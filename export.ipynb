{
 "cells": [
  {
   "cell_type": "code",
   "execution_count": 1,
   "metadata": {},
   "outputs": [],
   "source": [
    "from ultralytics import YOLO"
   ]
  },
  {
   "cell_type": "code",
   "execution_count": 4,
   "metadata": {},
   "outputs": [],
   "source": [
    "# Cargamos el modelo\n",
    "model = YOLO(f\"models/best_yolov3n.pt\")"
   ]
  },
  {
   "cell_type": "code",
   "execution_count": 6,
   "metadata": {},
   "outputs": [
    {
     "name": "stdout",
     "output_type": "stream",
     "text": [
      "Ultralytics YOLOv8.0.225 🚀 Python-3.8.18 torch-2.1.1+cpu CPU (12th Gen Intel Core(TM) i7-12700H)\n",
      "YOLOv3n summary (fused): 226 layers, 103665011 parameters, 0 gradients, 282.2 GFLOPs\n",
      "\n",
      "\u001b[34m\u001b[1mPyTorch:\u001b[0m starting from 'models\\best_yolov3n.pt' with input shape (1, 3, 640, 640) BCHW and output shape(s) (1, 5, 8400) (198.2 MB)\n",
      "\n",
      "\u001b[34m\u001b[1mTensorFlow SavedModel:\u001b[0m starting export with tensorflow 2.13.0...\n",
      "\n",
      "\u001b[34m\u001b[1mONNX:\u001b[0m starting export with onnx 1.15.0 opset 17...\n",
      "\u001b[34m\u001b[1mONNX:\u001b[0m simplifying with onnxsim 0.4.35...\n",
      "\u001b[34m\u001b[1mONNX:\u001b[0m export success ✅ 14.8s, saved as 'models\\best_yolov3n.onnx' (395.6 MB)\n",
      "\u001b[34m\u001b[1mTensorFlow SavedModel:\u001b[0m running 'onnx2tf -i \"models\\best_yolov3n.onnx\" -o \"models\\best_yolov3n_saved_model\" -nuo --verbosity info -oiqt -qt per-tensor'\n",
      "\u001b[34m\u001b[1mTensorFlow SavedModel:\u001b[0m export success ✅ 2776.8s, saved as 'models\\best_yolov3n_saved_model' (1286.9 MB)\n",
      "\n",
      "\u001b[34m\u001b[1mTensorFlow Lite:\u001b[0m starting export with tensorflow 2.13.0...\n",
      "\u001b[34m\u001b[1mTensorFlow Lite:\u001b[0m export success ✅ 0.0s, saved as 'models\\best_yolov3n_saved_model\\best_yolov3n_int8.tflite' (99.1 MB)\n",
      "\n",
      "Export complete (2782.2s)\n",
      "Results saved to \u001b[1mC:\\Users\\migue\\OneDrive - Universitat de les Illes Balears\\Proyectos\\PhD\\007 - YOLO-ultralitycs-comparison\\models\u001b[0m\n",
      "Predict:         yolo predict task=detect model=models\\best_yolov3n_saved_model\\best_yolov3n_int8.tflite imgsz=640 int8 \n",
      "Validate:        yolo val task=detect model=models\\best_yolov3n_saved_model\\best_yolov3n_int8.tflite imgsz=640 data=dataset/ObjectDetection/lagartijas/raw/20240224_154610_yolov3n/config.yaml int8 \n",
      "Visualize:       https://netron.app\n"
     ]
    },
    {
     "data": {
      "text/plain": [
       "'models\\\\best_yolov3n_saved_model\\\\best_yolov3n_int8.tflite'"
      ]
     },
     "execution_count": 6,
     "metadata": {},
     "output_type": "execute_result"
    }
   ],
   "source": [
    "model.export(format='tflite', int8=True)"
   ]
  }
 ],
 "metadata": {
  "kernelspec": {
   "display_name": "phd",
   "language": "python",
   "name": "python3"
  },
  "language_info": {
   "codemirror_mode": {
    "name": "ipython",
    "version": 3
   },
   "file_extension": ".py",
   "mimetype": "text/x-python",
   "name": "python",
   "nbconvert_exporter": "python",
   "pygments_lexer": "ipython3",
   "version": "3.8.18"
  }
 },
 "nbformat": 4,
 "nbformat_minor": 2
}
